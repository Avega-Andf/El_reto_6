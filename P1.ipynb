{
 "cells": [
  {
   "cell_type": "code",
   "execution_count": null,
   "metadata": {},
   "outputs": [],
   "source": [
    "import math\n",
    "#Para la esfera\n",
    "def calcular_area_esfera( radio:float) -> float:\n",
    "  area_esfera = 4*math.pi*(radio**2)\n",
    "  return area_esfera\n",
    "\n",
    "def calcular_volumen_esfera(radio:float) -> float:\n",
    "  volumen_esfera = (4/3)*math.pi*(radio**3)\n",
    "  return volumen_esfera\n",
    "\n",
    "#Para el cono\n",
    "def calcular_area_cono(radio2:float, altura:float) -> float:\n",
    "  altura_inclinada = (radio2**2 + altura**2)**0.5\n",
    "  area_cono = math.pi*radio2*(radio2+altura_inclinada)\n",
    "  return area_cono\n",
    "\n",
    "def calcular_volumen_cono(radio2:float, altura:float) -> float:\n",
    "  volumen_cono = (1/3)*math.pi*(radio2**2)*altura\n",
    "  return volumen_cono\n",
    "\n",
    "if __name__ == \"__main__\":\n",
    "  #esfera\n",
    "  radio = float(input(\"Ingrese el radio de la esfera:\"))\n",
    "  areaesfera = calcular_area_esfera(radio)\n",
    "  volumenesfera = calcular_volumen_esfera(radio)\n",
    "  #cono\n",
    "  radio2 = float(input(\"Ingrese el radio del cono:\"))\n",
    "  altura = float(input(\"Ingrese la altura del cono:\"))\n",
    "  areacono = calcular_area_cono(radio2,altura)\n",
    "  volumencono = calcular_volumen_cono(radio2,altura)\n",
    " \n",
    "  #total\n",
    "  areatotal = (areacono + areaesfera)\n",
    "  volumentotal = (volumenesfera + volumencono)\n",
    "  \n",
    "  print(\"El area de la esfera es \" + str(areaesfera))\n",
    "  print(\"El volumen de la esfera es \" + str(volumenesfera))\n",
    "  print(\"El area del cono es \" + str(areacono))\n",
    "  print(\"El volumen del cono es \" + str(volumencono))\n",
    "  print(\"El area total de la figura es \" + str(areatotal))\n",
    "  print(\"El volumen total de la figura es \" + str(volumentotal))"
   ]
  }
 ],
 "metadata": {
  "language_info": {
   "name": "python"
  },
  "orig_nbformat": 4
 },
 "nbformat": 4,
 "nbformat_minor": 2
}
