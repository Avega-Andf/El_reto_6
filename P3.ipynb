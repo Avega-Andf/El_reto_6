{
 "cells": [
  {
   "cell_type": "code",
   "execution_count": null,
   "metadata": {},
   "outputs": [],
   "source": [
    "def calcularKilodeaves(gallinas : float, gallos : float, pollitos : float):\n",
    "    kiloaves = 6 * gallinas + 7*gallos + pollitos\n",
    "    return kiloaves\n",
    "\n",
    "if __name__ == \"__main__\":\n",
    "    N = float(input(\"ingrese la cantidad de gallinas:\"))\n",
    "    M = float(input(\"ingrese la cantidad de gallos:\"))\n",
    "    K = float(input(\"ingrese la cantidad de pollitos:\"))\n",
    "    kilototal = calcularKilodeaves(N, M, K)\n",
    "    print(\"La cantidad de kilos totales entre todas las aves es: \" + str(kilototal))"
   ]
  }
 ],
 "metadata": {
  "language_info": {
   "name": "python"
  },
  "orig_nbformat": 4
 },
 "nbformat": 4,
 "nbformat_minor": 2
}
