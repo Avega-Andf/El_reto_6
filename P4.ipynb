{
 "cells": [
  {
   "cell_type": "code",
   "execution_count": null,
   "metadata": {},
   "outputs": [],
   "source": [
    "def Calcularpreciototal (panes:float, leche:float, huevos:float, dinero:float):\n",
    "    preciototal = dinero - 300*panes - 3300 * leche - 350*huevos \n",
    "    return preciototal\n",
    "\n",
    "if __name__ == \"__main__\":\n",
    "    P=float(input(\"Ingrese la cantidad de panes que te pidieron comprar:\"))\n",
    "    M=float(input(\"Ingrese la cantidad de bolsas de leche que te pidieron comprar:\"))\n",
    "    H=float(input(\"Ingrese la cantidad de huevos que te pidieron comprar:\"))\n",
    "    B=float(input(\"Ingresa la cantidad de dinero que te dieron\"))\n",
    "    G = Calcularpreciototal(P, M, H, B)\n",
    "    if G>0:\n",
    "        print(\"La cantidad que te sobra es \" +str(G)+ \" pesos\" )\n",
    "    elif G<0:\n",
    "        print(\"la cantidad que te falta es: \" +str(-G)+ \" pesos\") \n",
    "    else:\n",
    "        print(\"No te sobra ni te falta nada de dinero\")"
   ]
  }
 ],
 "metadata": {
  "language_info": {
   "name": "python"
  },
  "orig_nbformat": 4
 },
 "nbformat": 4,
 "nbformat_minor": 2
}
