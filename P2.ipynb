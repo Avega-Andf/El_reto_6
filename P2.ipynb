{
 "cells": [
  {
   "cell_type": "code",
   "execution_count": null,
   "metadata": {},
   "outputs": [],
   "source": [
    "import math\n",
    "#Para el rectangulo\n",
    "def calcular_area_rectangulo(base:float, altura:float) -> float:\n",
    "  area_rectangulo = base*altura\n",
    "  return area_rectangulo\n",
    "\n",
    "def calcular_perimetro_rectangulo(base:float, altura:float) -> float:\n",
    "  perimetro_rectangulo = 2*base+2*altura\n",
    "  return perimetro_rectangulo\n",
    "\n",
    "#Para los circulos\n",
    "def calcular_area_circulos(radio:float) -> float:\n",
    "  area_circulos = math.pi*radio**2\n",
    "  return area_circulos\n",
    "\n",
    "def calcular_perimetro_circulos(radio:float) -> float:\n",
    "  perimetro_circulos = 2*math.pi*radio\n",
    "  return perimetro_circulos\n",
    "\n",
    "if __name__ == \"__main__\":\n",
    "  #rectangulo\n",
    "  base = float(input(\"Ingrese la base del rectangulo:\"))\n",
    "  altura = float(input(\"Ingrese la altura del rectangulo:\"))\n",
    "  arearectangulo = calcular_area_rectangulo(base,altura)\n",
    "  perimetrorectangulo = calcular_perimetro_rectangulo(base,altura)\n",
    "  #circulos\n",
    "  radio = float(input(\"Ingrese un radio para los circulos:\"))\n",
    "  areacirculos = calcular_area_circulos(radio)\n",
    "  perimetrocirculos = calcular_perimetro_circulos(radio)\n",
    " \n",
    "  #total\n",
    "  areatotal = (arearectangulo + areacirculos+areacirculos)\n",
    "  perimetrototal = (perimetrocirculos + perimetrorectangulo+perimetrocirculos)\n",
    "  \n",
    "  print(\"El area del rectangulo es \" + str(arearectangulo))\n",
    "  print(\"El perimetro del rectangulo es \" + str(perimetrorectangulo))\n",
    "  print(\"El area de los circulos \" + str(areacirculos))\n",
    "  print(\"El perimetro de los circulos es \" + str(perimetrocirculos))\n",
    "  print(\"El area total de la figura es \" + str(areatotal))\n",
    "  print(\"El perimetro total de la figura es \" + str(perimetrototal))"
   ]
  }
 ],
 "metadata": {
  "language_info": {
   "name": "python"
  },
  "orig_nbformat": 4
 },
 "nbformat": 4,
 "nbformat_minor": 2
}
