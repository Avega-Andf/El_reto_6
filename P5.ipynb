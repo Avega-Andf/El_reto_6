{
 "cells": [
  {
   "cell_type": "code",
   "execution_count": null,
   "metadata": {},
   "outputs": [],
   "source": [
    "def Calcularinteres (Dineroinicial:float, Interes : float, Meses : float ):\n",
    "    Dinerofinal = Dineroinicial * (1+ Interes/100)**Meses\n",
    "    return Dinerofinal\n",
    "\n",
    "if __name__ == \"__main__\":\n",
    "    C = float(input(\"Ingresa el dinero incial prestado:\"))\n",
    "    I = float(input(\"Ingresa el interes:\"))\n",
    "    N = float(input(\"Ingresa la cantidad de meses:\"))\n",
    "    D = Calcularinteres(A,B,C)\n",
    "    print(\"El dinero final es: \" + str(D))"
   ]
  }
 ],
 "metadata": {
  "language_info": {
   "name": "python"
  },
  "orig_nbformat": 4
 },
 "nbformat": 4,
 "nbformat_minor": 2
}
